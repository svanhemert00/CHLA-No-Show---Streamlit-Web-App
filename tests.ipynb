{
 "cells": [
  {
   "cell_type": "code",
   "execution_count": 2,
   "metadata": {
    "tags": []
   },
   "outputs": [],
   "source": [
    "### import libraries\n",
    "import streamlit as st\n",
    "import numpy as np\n",
    "import pandas as pd\n",
    "import pickle\n",
    "from datetime import datetime\n",
    "import plotly_express as px\n",
    "from titlecase import titlecase\n",
    "from sklearn.preprocessing import LabelEncoder"
   ]
  },
  {
   "cell_type": "code",
   "execution_count": 3,
   "metadata": {
    "tags": []
   },
   "outputs": [],
   "source": [
    "df = pd.read_csv(\"CHLA_clean_data_2024_Appointments.csv\")\n",
    "df['APPT_DATE'] = pd.to_datetime(df['APPT_DATE'])"
   ]
  },
  {
   "cell_type": "code",
   "execution_count": 4,
   "metadata": {
    "tags": []
   },
   "outputs": [
    {
     "data": {
      "text/plain": [
       "Index(['MRN', 'APPT_STATUS', 'APPT_DATE', 'BOOK_DATE', 'ZIPCODE', 'CLINIC',\n",
       "       'SCHEDULE_ID', 'APPT_ID', 'LEAD_TIME', 'IS_REPEAT',\n",
       "       'APPT_TYPE_STANDARDIZE', 'APPT_NUM', 'TOTAL_NUMBER_OF_CANCELLATIONS',\n",
       "       'TOTAL_NUMBER_OF_RESCHEDULED',\n",
       "       'TOTAL_NUMBER_OF_NOT_CHECKOUT_APPOINTMENT',\n",
       "       'TOTAL_NUMBER_OF_SUCCESS_APPOINTMENT', 'TOTAL_NUMBER_OF_NOSHOW',\n",
       "       'DAY_OF_WEEK', 'WEEK_OF_MONTH', 'NUM_OF_MONTH', 'HOUR_OF_DAY',\n",
       "       'IS_NOSHOW', 'AGE', 'ETHNICITY_STANDARDIZE', 'RACE_STANDARDIZE'],\n",
       "      dtype='object')"
      ]
     },
     "execution_count": 4,
     "metadata": {},
     "output_type": "execute_result"
    }
   ],
   "source": [
    "df.columns"
   ]
  },
  {
   "cell_type": "code",
   "execution_count": 5,
   "metadata": {
    "tags": []
   },
   "outputs": [],
   "source": [
    "mask = (df['APPT_DATE'] >= '2024-01-02 15:00:00') & (df['APPT_DATE'] <= '2024-05-08 15:30:00')\n",
    "df = df[mask]\n",
    "df = df[df['CLINIC'] == 'ARCADIA CARE CENTER']"
   ]
  },
  {
   "cell_type": "code",
   "execution_count": 6,
   "metadata": {
    "tags": []
   },
   "outputs": [
    {
     "data": {
      "text/plain": [
       "9"
      ]
     },
     "execution_count": 6,
     "metadata": {},
     "output_type": "execute_result"
    }
   ],
   "source": [
    "len(df)"
   ]
  },
  {
   "cell_type": "code",
   "execution_count": 7,
   "metadata": {
    "tags": []
   },
   "outputs": [],
   "source": [
    "fdf = df[[\n",
    "    'MRN',\n",
    "    'APPT_DATE',\n",
    "    'AGE',\n",
    "    'CLINIC',\n",
    "    'TOTAL_NUMBER_OF_CANCELLATIONS',\n",
    "    'LEAD_TIME',\n",
    "    'TOTAL_NUMBER_OF_RESCHEDULED',\n",
    "    'TOTAL_NUMBER_OF_NOSHOW',\n",
    "    'TOTAL_NUMBER_OF_SUCCESS_APPOINTMENT',\n",
    "    'HOUR_OF_DAY',\n",
    "    'NUM_OF_MONTH'\n",
    "]]\n",
    "\n",
    "### slice predictive df\n",
    "pdf = fdf.drop(['MRN', 'APPT_DATE'], axis=1)"
   ]
  },
  {
   "cell_type": "code",
   "execution_count": 8,
   "metadata": {
    "tags": []
   },
   "outputs": [
    {
     "name": "stdout",
     "output_type": "stream",
     "text": [
      "9\n",
      "9\n"
     ]
    }
   ],
   "source": [
    "print(len(fdf))\n",
    "print(len(pdf))"
   ]
  },
  {
   "cell_type": "code",
   "execution_count": 9,
   "metadata": {
    "tags": []
   },
   "outputs": [],
   "source": [
    "### label encoding\n",
    "le = LabelEncoder()\n",
    "object_cols = ['CLINIC']\n",
    "for col in object_cols:\n",
    "    pdf[col] = le.fit_transform(pdf[col])"
   ]
  },
  {
   "cell_type": "code",
   "execution_count": 10,
   "metadata": {
    "tags": []
   },
   "outputs": [
    {
     "name": "stdout",
     "output_type": "stream",
     "text": [
      "9\n",
      "9\n"
     ]
    }
   ],
   "source": [
    "print(len(fdf))\n",
    "print(len(pdf))"
   ]
  },
  {
   "cell_type": "code",
   "execution_count": 11,
   "metadata": {
    "tags": []
   },
   "outputs": [],
   "source": [
    "### load and run the predictor model\n",
    "model = pickle.load(open('random_forest_model.pkl', 'rb'))\n",
    "predictions = model.predict(pdf)"
   ]
  },
  {
   "cell_type": "code",
   "execution_count": 12,
   "metadata": {
    "tags": []
   },
   "outputs": [
    {
     "data": {
      "text/plain": [
       "9"
      ]
     },
     "execution_count": 12,
     "metadata": {},
     "output_type": "execute_result"
    }
   ],
   "source": [
    "len(predictions)"
   ]
  },
  {
   "cell_type": "code",
   "execution_count": 13,
   "metadata": {
    "tags": []
   },
   "outputs": [],
   "source": [
    "predictions_series = pd.DataFrame(pd.Series(predictions))"
   ]
  },
  {
   "cell_type": "code",
   "execution_count": 14,
   "metadata": {
    "tags": []
   },
   "outputs": [],
   "source": [
    "column_renaming = {0: 'new_column_name'}\n",
    "predictions_series = predictions_series.rename(columns=column_renaming)"
   ]
  },
  {
   "cell_type": "code",
   "execution_count": 15,
   "metadata": {
    "tags": []
   },
   "outputs": [
    {
     "data": {
      "text/html": [
       "<div>\n",
       "<style scoped>\n",
       "    .dataframe tbody tr th:only-of-type {\n",
       "        vertical-align: middle;\n",
       "    }\n",
       "\n",
       "    .dataframe tbody tr th {\n",
       "        vertical-align: top;\n",
       "    }\n",
       "\n",
       "    .dataframe thead th {\n",
       "        text-align: right;\n",
       "    }\n",
       "</style>\n",
       "<table border=\"1\" class=\"dataframe\">\n",
       "  <thead>\n",
       "    <tr style=\"text-align: right;\">\n",
       "      <th></th>\n",
       "      <th>new_column_name</th>\n",
       "    </tr>\n",
       "  </thead>\n",
       "  <tbody>\n",
       "    <tr>\n",
       "      <th>0</th>\n",
       "      <td>0</td>\n",
       "    </tr>\n",
       "    <tr>\n",
       "      <th>1</th>\n",
       "      <td>0</td>\n",
       "    </tr>\n",
       "    <tr>\n",
       "      <th>2</th>\n",
       "      <td>0</td>\n",
       "    </tr>\n",
       "    <tr>\n",
       "      <th>3</th>\n",
       "      <td>0</td>\n",
       "    </tr>\n",
       "    <tr>\n",
       "      <th>4</th>\n",
       "      <td>0</td>\n",
       "    </tr>\n",
       "    <tr>\n",
       "      <th>5</th>\n",
       "      <td>0</td>\n",
       "    </tr>\n",
       "    <tr>\n",
       "      <th>6</th>\n",
       "      <td>0</td>\n",
       "    </tr>\n",
       "    <tr>\n",
       "      <th>7</th>\n",
       "      <td>0</td>\n",
       "    </tr>\n",
       "    <tr>\n",
       "      <th>8</th>\n",
       "      <td>0</td>\n",
       "    </tr>\n",
       "  </tbody>\n",
       "</table>\n",
       "</div>"
      ],
      "text/plain": [
       "   new_column_name\n",
       "0                0\n",
       "1                0\n",
       "2                0\n",
       "3                0\n",
       "4                0\n",
       "5                0\n",
       "6                0\n",
       "7                0\n",
       "8                0"
      ]
     },
     "execution_count": 15,
     "metadata": {},
     "output_type": "execute_result"
    }
   ],
   "source": [
    "predictions_series"
   ]
  },
  {
   "cell_type": "code",
   "execution_count": 16,
   "metadata": {
    "tags": []
   },
   "outputs": [
    {
     "data": {
      "text/plain": [
       "(9, 1)"
      ]
     },
     "execution_count": 16,
     "metadata": {},
     "output_type": "execute_result"
    }
   ],
   "source": [
    "predictions_series.shape"
   ]
  },
  {
   "cell_type": "code",
   "execution_count": 19,
   "metadata": {
    "tags": []
   },
   "outputs": [],
   "source": [
    "fdf = fdf.reset_index(drop=True)"
   ]
  },
  {
   "cell_type": "code",
   "execution_count": 20,
   "metadata": {},
   "outputs": [
    {
     "name": "stdout",
     "output_type": "stream",
     "text": [
      "final_df 9\n",
      "final_df 9\n",
      "final_df 9\n",
      "final_df 9\n"
     ]
    }
   ],
   "source": [
    "print('final_df', len(fdf))\n",
    "print('final_df', len(predictions_series))\n",
    "\n",
    "df.reset_index(drop=True)\n",
    "\n",
    "final_df = pd.concat([fdf, predictions_series], axis=1)\n",
    "print('final_df', len(final_df))\n",
    "final_df.columns = [*final_df.columns[:-1], 'NO-SHOW (Y/N)']\n",
    "final_df = final_df[['MRN', 'APPT_DATE', 'CLINIC', 'NO-SHOW (Y/N)']]\n",
    "print('final_df', len(final_df))"
   ]
  },
  {
   "cell_type": "code",
   "execution_count": 17,
   "metadata": {
    "tags": []
   },
   "outputs": [
    {
     "data": {
      "text/html": [
       "<div>\n",
       "<style scoped>\n",
       "    .dataframe tbody tr th:only-of-type {\n",
       "        vertical-align: middle;\n",
       "    }\n",
       "\n",
       "    .dataframe tbody tr th {\n",
       "        vertical-align: top;\n",
       "    }\n",
       "\n",
       "    .dataframe thead th {\n",
       "        text-align: right;\n",
       "    }\n",
       "</style>\n",
       "<table border=\"1\" class=\"dataframe\">\n",
       "  <thead>\n",
       "    <tr style=\"text-align: right;\">\n",
       "      <th></th>\n",
       "      <th>MRN</th>\n",
       "      <th>APPT_DATE</th>\n",
       "      <th>CLINIC</th>\n",
       "      <th>NO-SHOW (Y/N)</th>\n",
       "    </tr>\n",
       "  </thead>\n",
       "  <tbody>\n",
       "    <tr>\n",
       "      <th>0</th>\n",
       "      <td>1873606.0</td>\n",
       "      <td>2024-05-08 15:30:00</td>\n",
       "      <td>ARCADIA CARE CENTER</td>\n",
       "      <td>No</td>\n",
       "    </tr>\n",
       "    <tr>\n",
       "      <th>1</th>\n",
       "      <td>4133045.0</td>\n",
       "      <td>2024-05-07 09:00:00</td>\n",
       "      <td>ARCADIA CARE CENTER</td>\n",
       "      <td>No</td>\n",
       "    </tr>\n",
       "    <tr>\n",
       "      <th>2</th>\n",
       "      <td>4462967.0</td>\n",
       "      <td>2024-04-16 11:00:00</td>\n",
       "      <td>ARCADIA CARE CENTER</td>\n",
       "      <td>No</td>\n",
       "    </tr>\n",
       "    <tr>\n",
       "      <th>4</th>\n",
       "      <td>4457024.0</td>\n",
       "      <td>2024-04-02 12:00:00</td>\n",
       "      <td>ARCADIA CARE CENTER</td>\n",
       "      <td>No</td>\n",
       "    </tr>\n",
       "    <tr>\n",
       "      <th>10</th>\n",
       "      <td>4006420.0</td>\n",
       "      <td>2024-02-06 09:30:00</td>\n",
       "      <td>ARCADIA CARE CENTER</td>\n",
       "      <td>NaN</td>\n",
       "    </tr>\n",
       "    <tr>\n",
       "      <th>15</th>\n",
       "      <td>4279873.0</td>\n",
       "      <td>2024-01-17 16:00:00</td>\n",
       "      <td>ARCADIA CARE CENTER</td>\n",
       "      <td>NaN</td>\n",
       "    </tr>\n",
       "    <tr>\n",
       "      <th>16</th>\n",
       "      <td>4168621.0</td>\n",
       "      <td>2024-01-16 10:00:00</td>\n",
       "      <td>ARCADIA CARE CENTER</td>\n",
       "      <td>NaN</td>\n",
       "    </tr>\n",
       "    <tr>\n",
       "      <th>17</th>\n",
       "      <td>4530370.0</td>\n",
       "      <td>2024-01-16 09:30:00</td>\n",
       "      <td>ARCADIA CARE CENTER</td>\n",
       "      <td>NaN</td>\n",
       "    </tr>\n",
       "    <tr>\n",
       "      <th>18</th>\n",
       "      <td>1823388.0</td>\n",
       "      <td>2024-01-10 11:30:00</td>\n",
       "      <td>ARCADIA CARE CENTER</td>\n",
       "      <td>NaN</td>\n",
       "    </tr>\n",
       "    <tr>\n",
       "      <th>3</th>\n",
       "      <td>NaN</td>\n",
       "      <td>NaT</td>\n",
       "      <td>NaN</td>\n",
       "      <td>No</td>\n",
       "    </tr>\n",
       "    <tr>\n",
       "      <th>5</th>\n",
       "      <td>NaN</td>\n",
       "      <td>NaT</td>\n",
       "      <td>NaN</td>\n",
       "      <td>No</td>\n",
       "    </tr>\n",
       "    <tr>\n",
       "      <th>6</th>\n",
       "      <td>NaN</td>\n",
       "      <td>NaT</td>\n",
       "      <td>NaN</td>\n",
       "      <td>No</td>\n",
       "    </tr>\n",
       "    <tr>\n",
       "      <th>7</th>\n",
       "      <td>NaN</td>\n",
       "      <td>NaT</td>\n",
       "      <td>NaN</td>\n",
       "      <td>No</td>\n",
       "    </tr>\n",
       "    <tr>\n",
       "      <th>8</th>\n",
       "      <td>NaN</td>\n",
       "      <td>NaT</td>\n",
       "      <td>NaN</td>\n",
       "      <td>No</td>\n",
       "    </tr>\n",
       "  </tbody>\n",
       "</table>\n",
       "</div>"
      ],
      "text/plain": [
       "          MRN           APPT_DATE               CLINIC NO-SHOW (Y/N)\n",
       "0   1873606.0 2024-05-08 15:30:00  ARCADIA CARE CENTER            No\n",
       "1   4133045.0 2024-05-07 09:00:00  ARCADIA CARE CENTER            No\n",
       "2   4462967.0 2024-04-16 11:00:00  ARCADIA CARE CENTER            No\n",
       "4   4457024.0 2024-04-02 12:00:00  ARCADIA CARE CENTER            No\n",
       "10  4006420.0 2024-02-06 09:30:00  ARCADIA CARE CENTER           NaN\n",
       "15  4279873.0 2024-01-17 16:00:00  ARCADIA CARE CENTER           NaN\n",
       "16  4168621.0 2024-01-16 10:00:00  ARCADIA CARE CENTER           NaN\n",
       "17  4530370.0 2024-01-16 09:30:00  ARCADIA CARE CENTER           NaN\n",
       "18  1823388.0 2024-01-10 11:30:00  ARCADIA CARE CENTER           NaN\n",
       "3         NaN                 NaT                  NaN            No\n",
       "5         NaN                 NaT                  NaN            No\n",
       "6         NaN                 NaT                  NaN            No\n",
       "7         NaN                 NaT                  NaN            No\n",
       "8         NaN                 NaT                  NaN            No"
      ]
     },
     "execution_count": 17,
     "metadata": {},
     "output_type": "execute_result"
    }
   ],
   "source": [
    "no_show_mapping = {0: 'No', 1: 'Yes'}\n",
    "final_df['NO-SHOW (Y/N)'] = final_df['NO-SHOW (Y/N)'].replace(no_show_mapping)\n",
    "final_df = final_df.sort_values(by='CLINIC')\n",
    "final_df"
   ]
  },
  {
   "cell_type": "code",
   "execution_count": 18,
   "metadata": {
    "tags": []
   },
   "outputs": [
    {
     "data": {
      "text/html": [
       "<div>\n",
       "<style scoped>\n",
       "    .dataframe tbody tr th:only-of-type {\n",
       "        vertical-align: middle;\n",
       "    }\n",
       "\n",
       "    .dataframe tbody tr th {\n",
       "        vertical-align: top;\n",
       "    }\n",
       "\n",
       "    .dataframe thead th {\n",
       "        text-align: right;\n",
       "    }\n",
       "</style>\n",
       "<table border=\"1\" class=\"dataframe\">\n",
       "  <thead>\n",
       "    <tr style=\"text-align: right;\">\n",
       "      <th></th>\n",
       "      <th>MRN</th>\n",
       "      <th>APPT_DATE</th>\n",
       "      <th>CLINIC</th>\n",
       "      <th>NO-SHOW (Y/N)</th>\n",
       "    </tr>\n",
       "  </thead>\n",
       "  <tbody>\n",
       "    <tr>\n",
       "      <th>0</th>\n",
       "      <td>1873606.0</td>\n",
       "      <td>2024-05-08 15:30:00</td>\n",
       "      <td>ARCADIA CARE CENTER</td>\n",
       "      <td>No</td>\n",
       "    </tr>\n",
       "    <tr>\n",
       "      <th>1</th>\n",
       "      <td>4133045.0</td>\n",
       "      <td>2024-05-07 09:00:00</td>\n",
       "      <td>ARCADIA CARE CENTER</td>\n",
       "      <td>No</td>\n",
       "    </tr>\n",
       "    <tr>\n",
       "      <th>2</th>\n",
       "      <td>4462967.0</td>\n",
       "      <td>2024-04-16 11:00:00</td>\n",
       "      <td>ARCADIA CARE CENTER</td>\n",
       "      <td>No</td>\n",
       "    </tr>\n",
       "    <tr>\n",
       "      <th>4</th>\n",
       "      <td>4457024.0</td>\n",
       "      <td>2024-04-02 12:00:00</td>\n",
       "      <td>ARCADIA CARE CENTER</td>\n",
       "      <td>No</td>\n",
       "    </tr>\n",
       "    <tr>\n",
       "      <th>10</th>\n",
       "      <td>4006420.0</td>\n",
       "      <td>2024-02-06 09:30:00</td>\n",
       "      <td>ARCADIA CARE CENTER</td>\n",
       "      <td>NaN</td>\n",
       "    </tr>\n",
       "    <tr>\n",
       "      <th>15</th>\n",
       "      <td>4279873.0</td>\n",
       "      <td>2024-01-17 16:00:00</td>\n",
       "      <td>ARCADIA CARE CENTER</td>\n",
       "      <td>NaN</td>\n",
       "    </tr>\n",
       "    <tr>\n",
       "      <th>16</th>\n",
       "      <td>4168621.0</td>\n",
       "      <td>2024-01-16 10:00:00</td>\n",
       "      <td>ARCADIA CARE CENTER</td>\n",
       "      <td>NaN</td>\n",
       "    </tr>\n",
       "    <tr>\n",
       "      <th>17</th>\n",
       "      <td>4530370.0</td>\n",
       "      <td>2024-01-16 09:30:00</td>\n",
       "      <td>ARCADIA CARE CENTER</td>\n",
       "      <td>NaN</td>\n",
       "    </tr>\n",
       "    <tr>\n",
       "      <th>18</th>\n",
       "      <td>1823388.0</td>\n",
       "      <td>2024-01-10 11:30:00</td>\n",
       "      <td>ARCADIA CARE CENTER</td>\n",
       "      <td>NaN</td>\n",
       "    </tr>\n",
       "    <tr>\n",
       "      <th>3</th>\n",
       "      <td>NaN</td>\n",
       "      <td>NaT</td>\n",
       "      <td>NaN</td>\n",
       "      <td>No</td>\n",
       "    </tr>\n",
       "    <tr>\n",
       "      <th>5</th>\n",
       "      <td>NaN</td>\n",
       "      <td>NaT</td>\n",
       "      <td>NaN</td>\n",
       "      <td>No</td>\n",
       "    </tr>\n",
       "    <tr>\n",
       "      <th>6</th>\n",
       "      <td>NaN</td>\n",
       "      <td>NaT</td>\n",
       "      <td>NaN</td>\n",
       "      <td>No</td>\n",
       "    </tr>\n",
       "    <tr>\n",
       "      <th>7</th>\n",
       "      <td>NaN</td>\n",
       "      <td>NaT</td>\n",
       "      <td>NaN</td>\n",
       "      <td>No</td>\n",
       "    </tr>\n",
       "    <tr>\n",
       "      <th>8</th>\n",
       "      <td>NaN</td>\n",
       "      <td>NaT</td>\n",
       "      <td>NaN</td>\n",
       "      <td>No</td>\n",
       "    </tr>\n",
       "  </tbody>\n",
       "</table>\n",
       "</div>"
      ],
      "text/plain": [
       "          MRN           APPT_DATE               CLINIC NO-SHOW (Y/N)\n",
       "0   1873606.0 2024-05-08 15:30:00  ARCADIA CARE CENTER            No\n",
       "1   4133045.0 2024-05-07 09:00:00  ARCADIA CARE CENTER            No\n",
       "2   4462967.0 2024-04-16 11:00:00  ARCADIA CARE CENTER            No\n",
       "4   4457024.0 2024-04-02 12:00:00  ARCADIA CARE CENTER            No\n",
       "10  4006420.0 2024-02-06 09:30:00  ARCADIA CARE CENTER           NaN\n",
       "15  4279873.0 2024-01-17 16:00:00  ARCADIA CARE CENTER           NaN\n",
       "16  4168621.0 2024-01-16 10:00:00  ARCADIA CARE CENTER           NaN\n",
       "17  4530370.0 2024-01-16 09:30:00  ARCADIA CARE CENTER           NaN\n",
       "18  1823388.0 2024-01-10 11:30:00  ARCADIA CARE CENTER           NaN\n",
       "3         NaN                 NaT                  NaN            No\n",
       "5         NaN                 NaT                  NaN            No\n",
       "6         NaN                 NaT                  NaN            No\n",
       "7         NaN                 NaT                  NaN            No\n",
       "8         NaN                 NaT                  NaN            No"
      ]
     },
     "execution_count": 18,
     "metadata": {},
     "output_type": "execute_result"
    }
   ],
   "source": [
    "final_df"
   ]
  },
  {
   "cell_type": "code",
   "execution_count": null,
   "metadata": {},
   "outputs": [],
   "source": []
  }
 ],
 "metadata": {
  "colab": {
   "provenance": []
  },
  "kernelspec": {
   "display_name": "Python 3 (ipykernel)",
   "language": "python",
   "name": "python3"
  },
  "language_info": {
   "codemirror_mode": {
    "name": "ipython",
    "version": 3
   },
   "file_extension": ".py",
   "mimetype": "text/x-python",
   "name": "python",
   "nbconvert_exporter": "python",
   "pygments_lexer": "ipython3",
   "version": "3.11.3"
  }
 },
 "nbformat": 4,
 "nbformat_minor": 4
}
